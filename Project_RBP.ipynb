{
  "nbformat": 4,
  "nbformat_minor": 0,
  "metadata": {
    "colab": {
      "name": "Project_RBP.ipynb",
      "provenance": [],
      "collapsed_sections": []
    },
    "kernelspec": {
      "name": "python3",
      "display_name": "Python 3"
    },
    "language_info": {
      "name": "python"
    },
    "accelerator": "GPU"
  },
  "cells": [
    {
      "cell_type": "markdown",
      "source": [
        "## Predicting RBP Binding with CNN and Transformer"
      ],
      "metadata": {
        "id": "HX8hsK5ddBdB"
      }
    },
    {
      "cell_type": "markdown",
      "source": [
        "### Imports"
      ],
      "metadata": {
        "id": "WYJOhs-vc-3U"
      }
    },
    {
      "cell_type": "code",
      "source": [
        "import os \n",
        "import torch\n",
        "import torch.nn as nn \n",
        "import torch.utils.data\n",
        "from torch.nn.modules.pooling import MaxPool2d\n",
        "\n",
        "import numpy as np \n",
        "import math\n",
        "import pickle\n",
        "import pandas as pd\n",
        "from pathlib import Path\n",
        "from google.colab import drive\n",
        "import random\n",
        "\n",
        "assert(torch.cuda.is_available())\n",
        "device = \"cuda\" \n",
        "\n",
        "drive.mount('/content/drive') "
      ],
      "metadata": {
        "id": "kFpO4H-hZzGh",
        "colab": {
          "base_uri": "https://localhost:8080/"
        },
        "outputId": "fe4e5da8-a3d9-4f3d-cccd-0caf1d754d81"
      },
      "execution_count": 1,
      "outputs": [
        {
          "output_type": "stream",
          "name": "stdout",
          "text": [
            "Mounted at /content/drive\n"
          ]
        }
      ]
    },
    {
      "cell_type": "markdown",
      "source": [
        "### Datasets"
      ],
      "metadata": {
        "id": "nJyn042lmshX"
      }
    },
    {
      "cell_type": "markdown",
      "source": [
        "##### ENCODE"
      ],
      "metadata": {
        "id": "Vre2dMwum3gN"
      }
    },
    {
      "cell_type": "code",
      "source": [
        "root_dir = '/content/drive/MyDrive/ML4FG/Project' "
      ],
      "metadata": {
        "id": "VSFSN7UQnim6"
      },
      "execution_count": 2,
      "outputs": []
    },
    {
      "cell_type": "code",
      "source": [
        "encode_dir = Path(root_dir + '/datasets/ENCODE')\n",
        "\n",
        "encode_df = pd.read_csv(encode_dir / 'encode_eclip_idr.bed.gz', sep = '\\t')\n",
        "encode_df = encode_df.sort_values(['chr', 'start']).drop_duplicates()\n",
        "encode_df "
      ],
      "metadata": {
        "id": "fB6PXnGJOrTZ",
        "colab": {
          "base_uri": "https://localhost:8080/",
          "height": 423
        },
        "outputId": "7f45f015-5e56-4e63-a426-b2c36e9da5b8"
      },
      "execution_count": 3,
      "outputs": [
        {
          "output_type": "execute_result",
          "data": {
            "text/plain": [
              "         chr     start       end strand      fold   nlog10p   cell  target\n",
              "565739  chr1     15922     15985      -  4.336078  6.512251   K562     AQR\n",
              "494169  chr1     16230     16331      -  3.344423  6.274660   K562   BUD13\n",
              "562861  chr1     16250     16319      -  4.045827  7.122894   K562     AQR\n",
              "558839  chr1     16462     16510      -  5.292347  6.083708   K562     AQR\n",
              "278941  chr1     17451     17573      -  3.361457  4.291127   K562  CSTF2T\n",
              "...      ...       ...       ...    ...       ...       ...    ...     ...\n",
              "438950  chrY  19744401  19744473      -  3.464966  8.168405  HepG2  BCLAF1\n",
              "191326  chrY  19744489  19744548      -  3.048818  4.066013  HepG2    PPIG\n",
              "671368  chrY  20579772  20579892      +  4.660723  5.507490  HepG2   U2AF2\n",
              "159170  chrY  20580800  20580864      +  4.144179  3.393384  HepG2     QKI\n",
              "161385  chrY  20580896  20580961      +  4.380346  4.105902  HepG2     QKI\n",
              "\n",
              "[848077 rows x 8 columns]"
            ],
            "text/html": [
              "\n",
              "  <div id=\"df-ba99dca6-fa37-49b4-ab1b-4944f7e933cf\">\n",
              "    <div class=\"colab-df-container\">\n",
              "      <div>\n",
              "<style scoped>\n",
              "    .dataframe tbody tr th:only-of-type {\n",
              "        vertical-align: middle;\n",
              "    }\n",
              "\n",
              "    .dataframe tbody tr th {\n",
              "        vertical-align: top;\n",
              "    }\n",
              "\n",
              "    .dataframe thead th {\n",
              "        text-align: right;\n",
              "    }\n",
              "</style>\n",
              "<table border=\"1\" class=\"dataframe\">\n",
              "  <thead>\n",
              "    <tr style=\"text-align: right;\">\n",
              "      <th></th>\n",
              "      <th>chr</th>\n",
              "      <th>start</th>\n",
              "      <th>end</th>\n",
              "      <th>strand</th>\n",
              "      <th>fold</th>\n",
              "      <th>nlog10p</th>\n",
              "      <th>cell</th>\n",
              "      <th>target</th>\n",
              "    </tr>\n",
              "  </thead>\n",
              "  <tbody>\n",
              "    <tr>\n",
              "      <th>565739</th>\n",
              "      <td>chr1</td>\n",
              "      <td>15922</td>\n",
              "      <td>15985</td>\n",
              "      <td>-</td>\n",
              "      <td>4.336078</td>\n",
              "      <td>6.512251</td>\n",
              "      <td>K562</td>\n",
              "      <td>AQR</td>\n",
              "    </tr>\n",
              "    <tr>\n",
              "      <th>494169</th>\n",
              "      <td>chr1</td>\n",
              "      <td>16230</td>\n",
              "      <td>16331</td>\n",
              "      <td>-</td>\n",
              "      <td>3.344423</td>\n",
              "      <td>6.274660</td>\n",
              "      <td>K562</td>\n",
              "      <td>BUD13</td>\n",
              "    </tr>\n",
              "    <tr>\n",
              "      <th>562861</th>\n",
              "      <td>chr1</td>\n",
              "      <td>16250</td>\n",
              "      <td>16319</td>\n",
              "      <td>-</td>\n",
              "      <td>4.045827</td>\n",
              "      <td>7.122894</td>\n",
              "      <td>K562</td>\n",
              "      <td>AQR</td>\n",
              "    </tr>\n",
              "    <tr>\n",
              "      <th>558839</th>\n",
              "      <td>chr1</td>\n",
              "      <td>16462</td>\n",
              "      <td>16510</td>\n",
              "      <td>-</td>\n",
              "      <td>5.292347</td>\n",
              "      <td>6.083708</td>\n",
              "      <td>K562</td>\n",
              "      <td>AQR</td>\n",
              "    </tr>\n",
              "    <tr>\n",
              "      <th>278941</th>\n",
              "      <td>chr1</td>\n",
              "      <td>17451</td>\n",
              "      <td>17573</td>\n",
              "      <td>-</td>\n",
              "      <td>3.361457</td>\n",
              "      <td>4.291127</td>\n",
              "      <td>K562</td>\n",
              "      <td>CSTF2T</td>\n",
              "    </tr>\n",
              "    <tr>\n",
              "      <th>...</th>\n",
              "      <td>...</td>\n",
              "      <td>...</td>\n",
              "      <td>...</td>\n",
              "      <td>...</td>\n",
              "      <td>...</td>\n",
              "      <td>...</td>\n",
              "      <td>...</td>\n",
              "      <td>...</td>\n",
              "    </tr>\n",
              "    <tr>\n",
              "      <th>438950</th>\n",
              "      <td>chrY</td>\n",
              "      <td>19744401</td>\n",
              "      <td>19744473</td>\n",
              "      <td>-</td>\n",
              "      <td>3.464966</td>\n",
              "      <td>8.168405</td>\n",
              "      <td>HepG2</td>\n",
              "      <td>BCLAF1</td>\n",
              "    </tr>\n",
              "    <tr>\n",
              "      <th>191326</th>\n",
              "      <td>chrY</td>\n",
              "      <td>19744489</td>\n",
              "      <td>19744548</td>\n",
              "      <td>-</td>\n",
              "      <td>3.048818</td>\n",
              "      <td>4.066013</td>\n",
              "      <td>HepG2</td>\n",
              "      <td>PPIG</td>\n",
              "    </tr>\n",
              "    <tr>\n",
              "      <th>671368</th>\n",
              "      <td>chrY</td>\n",
              "      <td>20579772</td>\n",
              "      <td>20579892</td>\n",
              "      <td>+</td>\n",
              "      <td>4.660723</td>\n",
              "      <td>5.507490</td>\n",
              "      <td>HepG2</td>\n",
              "      <td>U2AF2</td>\n",
              "    </tr>\n",
              "    <tr>\n",
              "      <th>159170</th>\n",
              "      <td>chrY</td>\n",
              "      <td>20580800</td>\n",
              "      <td>20580864</td>\n",
              "      <td>+</td>\n",
              "      <td>4.144179</td>\n",
              "      <td>3.393384</td>\n",
              "      <td>HepG2</td>\n",
              "      <td>QKI</td>\n",
              "    </tr>\n",
              "    <tr>\n",
              "      <th>161385</th>\n",
              "      <td>chrY</td>\n",
              "      <td>20580896</td>\n",
              "      <td>20580961</td>\n",
              "      <td>+</td>\n",
              "      <td>4.380346</td>\n",
              "      <td>4.105902</td>\n",
              "      <td>HepG2</td>\n",
              "      <td>QKI</td>\n",
              "    </tr>\n",
              "  </tbody>\n",
              "</table>\n",
              "<p>848077 rows × 8 columns</p>\n",
              "</div>\n",
              "      <button class=\"colab-df-convert\" onclick=\"convertToInteractive('df-ba99dca6-fa37-49b4-ab1b-4944f7e933cf')\"\n",
              "              title=\"Convert this dataframe to an interactive table.\"\n",
              "              style=\"display:none;\">\n",
              "        \n",
              "  <svg xmlns=\"http://www.w3.org/2000/svg\" height=\"24px\"viewBox=\"0 0 24 24\"\n",
              "       width=\"24px\">\n",
              "    <path d=\"M0 0h24v24H0V0z\" fill=\"none\"/>\n",
              "    <path d=\"M18.56 5.44l.94 2.06.94-2.06 2.06-.94-2.06-.94-.94-2.06-.94 2.06-2.06.94zm-11 1L8.5 8.5l.94-2.06 2.06-.94-2.06-.94L8.5 2.5l-.94 2.06-2.06.94zm10 10l.94 2.06.94-2.06 2.06-.94-2.06-.94-.94-2.06-.94 2.06-2.06.94z\"/><path d=\"M17.41 7.96l-1.37-1.37c-.4-.4-.92-.59-1.43-.59-.52 0-1.04.2-1.43.59L10.3 9.45l-7.72 7.72c-.78.78-.78 2.05 0 2.83L4 21.41c.39.39.9.59 1.41.59.51 0 1.02-.2 1.41-.59l7.78-7.78 2.81-2.81c.8-.78.8-2.07 0-2.86zM5.41 20L4 18.59l7.72-7.72 1.47 1.35L5.41 20z\"/>\n",
              "  </svg>\n",
              "      </button>\n",
              "      \n",
              "  <style>\n",
              "    .colab-df-container {\n",
              "      display:flex;\n",
              "      flex-wrap:wrap;\n",
              "      gap: 12px;\n",
              "    }\n",
              "\n",
              "    .colab-df-convert {\n",
              "      background-color: #E8F0FE;\n",
              "      border: none;\n",
              "      border-radius: 50%;\n",
              "      cursor: pointer;\n",
              "      display: none;\n",
              "      fill: #1967D2;\n",
              "      height: 32px;\n",
              "      padding: 0 0 0 0;\n",
              "      width: 32px;\n",
              "    }\n",
              "\n",
              "    .colab-df-convert:hover {\n",
              "      background-color: #E2EBFA;\n",
              "      box-shadow: 0px 1px 2px rgba(60, 64, 67, 0.3), 0px 1px 3px 1px rgba(60, 64, 67, 0.15);\n",
              "      fill: #174EA6;\n",
              "    }\n",
              "\n",
              "    [theme=dark] .colab-df-convert {\n",
              "      background-color: #3B4455;\n",
              "      fill: #D2E3FC;\n",
              "    }\n",
              "\n",
              "    [theme=dark] .colab-df-convert:hover {\n",
              "      background-color: #434B5C;\n",
              "      box-shadow: 0px 1px 3px 1px rgba(0, 0, 0, 0.15);\n",
              "      filter: drop-shadow(0px 1px 2px rgba(0, 0, 0, 0.3));\n",
              "      fill: #FFFFFF;\n",
              "    }\n",
              "  </style>\n",
              "\n",
              "      <script>\n",
              "        const buttonEl =\n",
              "          document.querySelector('#df-ba99dca6-fa37-49b4-ab1b-4944f7e933cf button.colab-df-convert');\n",
              "        buttonEl.style.display =\n",
              "          google.colab.kernel.accessAllowed ? 'block' : 'none';\n",
              "\n",
              "        async function convertToInteractive(key) {\n",
              "          const element = document.querySelector('#df-ba99dca6-fa37-49b4-ab1b-4944f7e933cf');\n",
              "          const dataTable =\n",
              "            await google.colab.kernel.invokeFunction('convertToInteractive',\n",
              "                                                     [key], {});\n",
              "          if (!dataTable) return;\n",
              "\n",
              "          const docLinkHtml = 'Like what you see? Visit the ' +\n",
              "            '<a target=\"_blank\" href=https://colab.research.google.com/notebooks/data_table.ipynb>data table notebook</a>'\n",
              "            + ' to learn more about interactive tables.';\n",
              "          element.innerHTML = '';\n",
              "          dataTable['output_type'] = 'display_data';\n",
              "          await google.colab.output.renderOutput(dataTable, element);\n",
              "          const docLink = document.createElement('div');\n",
              "          docLink.innerHTML = docLinkHtml;\n",
              "          element.appendChild(docLink);\n",
              "        }\n",
              "      </script>\n",
              "    </div>\n",
              "  </div>\n",
              "  "
            ]
          },
          "metadata": {},
          "execution_count": 3
        }
      ]
    },
    {
      "cell_type": "code",
      "source": [
        "target_set = set(encode_df['target'])\n",
        "target_to_idx = dict(zip(target_set, list(range(len(target_set)))))\n",
        "idx_to_target = dict(zip(list(range(len(target_set))), target_set)) "
      ],
      "metadata": {
        "id": "jLP-JkVTriB2"
      },
      "execution_count": 4,
      "outputs": []
    },
    {
      "cell_type": "markdown",
      "source": [
        "##### rnbs_HNRNPK"
      ],
      "metadata": {
        "id": "DZCQgjiAm9f9"
      }
    },
    {
      "cell_type": "code",
      "source": [
        "rnbs_HNRNPK_dir = Path(root_dir + '/datasets/rnbs_HNRNPK')\n",
        "\n",
        "HNRNPK_0 = pd.read_csv(rnbs_HNRNPK_dir / 'HNRNPK_0.fasta.gz', header=None, names = ['Sequence'], sep = '\\t')\n",
        "HNRNPK_0 "
      ],
      "metadata": {
        "colab": {
          "base_uri": "https://localhost:8080/",
          "height": 423
        },
        "id": "Ls_2QE3ZqSYO",
        "outputId": "82f9cb31-ee90-4561-a5ed-0e2ddffb13e2"
      },
      "execution_count": 5,
      "outputs": [
        {
          "output_type": "execute_result",
          "data": {
            "text/plain": [
              "                      Sequence\n",
              "0         AGGACCTGACCATACGATGA\n",
              "1         ACTAAATCTCATGCAGGATA\n",
              "2         TTATAGCCCGATTAGGAGGG\n",
              "3         ATCGCCAATTGTCTTCAGAT\n",
              "4         CATTATCGCTTTATACAACT\n",
              "...                        ...\n",
              "11509893  ACAGTCTGGTTTCGAACGCG\n",
              "11509894  ACGAAATCTAGAGTAACTTA\n",
              "11509895  GCCATGAGATCATACGTCTT\n",
              "11509896  ACTCCACCGTTAGTATCCTT\n",
              "11509897  TTACCGTGAGTTAAGGATAC\n",
              "\n",
              "[11509898 rows x 1 columns]"
            ],
            "text/html": [
              "\n",
              "  <div id=\"df-09882155-2615-45e5-a4e1-74ee84c7210b\">\n",
              "    <div class=\"colab-df-container\">\n",
              "      <div>\n",
              "<style scoped>\n",
              "    .dataframe tbody tr th:only-of-type {\n",
              "        vertical-align: middle;\n",
              "    }\n",
              "\n",
              "    .dataframe tbody tr th {\n",
              "        vertical-align: top;\n",
              "    }\n",
              "\n",
              "    .dataframe thead th {\n",
              "        text-align: right;\n",
              "    }\n",
              "</style>\n",
              "<table border=\"1\" class=\"dataframe\">\n",
              "  <thead>\n",
              "    <tr style=\"text-align: right;\">\n",
              "      <th></th>\n",
              "      <th>Sequence</th>\n",
              "    </tr>\n",
              "  </thead>\n",
              "  <tbody>\n",
              "    <tr>\n",
              "      <th>0</th>\n",
              "      <td>AGGACCTGACCATACGATGA</td>\n",
              "    </tr>\n",
              "    <tr>\n",
              "      <th>1</th>\n",
              "      <td>ACTAAATCTCATGCAGGATA</td>\n",
              "    </tr>\n",
              "    <tr>\n",
              "      <th>2</th>\n",
              "      <td>TTATAGCCCGATTAGGAGGG</td>\n",
              "    </tr>\n",
              "    <tr>\n",
              "      <th>3</th>\n",
              "      <td>ATCGCCAATTGTCTTCAGAT</td>\n",
              "    </tr>\n",
              "    <tr>\n",
              "      <th>4</th>\n",
              "      <td>CATTATCGCTTTATACAACT</td>\n",
              "    </tr>\n",
              "    <tr>\n",
              "      <th>...</th>\n",
              "      <td>...</td>\n",
              "    </tr>\n",
              "    <tr>\n",
              "      <th>11509893</th>\n",
              "      <td>ACAGTCTGGTTTCGAACGCG</td>\n",
              "    </tr>\n",
              "    <tr>\n",
              "      <th>11509894</th>\n",
              "      <td>ACGAAATCTAGAGTAACTTA</td>\n",
              "    </tr>\n",
              "    <tr>\n",
              "      <th>11509895</th>\n",
              "      <td>GCCATGAGATCATACGTCTT</td>\n",
              "    </tr>\n",
              "    <tr>\n",
              "      <th>11509896</th>\n",
              "      <td>ACTCCACCGTTAGTATCCTT</td>\n",
              "    </tr>\n",
              "    <tr>\n",
              "      <th>11509897</th>\n",
              "      <td>TTACCGTGAGTTAAGGATAC</td>\n",
              "    </tr>\n",
              "  </tbody>\n",
              "</table>\n",
              "<p>11509898 rows × 1 columns</p>\n",
              "</div>\n",
              "      <button class=\"colab-df-convert\" onclick=\"convertToInteractive('df-09882155-2615-45e5-a4e1-74ee84c7210b')\"\n",
              "              title=\"Convert this dataframe to an interactive table.\"\n",
              "              style=\"display:none;\">\n",
              "        \n",
              "  <svg xmlns=\"http://www.w3.org/2000/svg\" height=\"24px\"viewBox=\"0 0 24 24\"\n",
              "       width=\"24px\">\n",
              "    <path d=\"M0 0h24v24H0V0z\" fill=\"none\"/>\n",
              "    <path d=\"M18.56 5.44l.94 2.06.94-2.06 2.06-.94-2.06-.94-.94-2.06-.94 2.06-2.06.94zm-11 1L8.5 8.5l.94-2.06 2.06-.94-2.06-.94L8.5 2.5l-.94 2.06-2.06.94zm10 10l.94 2.06.94-2.06 2.06-.94-2.06-.94-.94-2.06-.94 2.06-2.06.94z\"/><path d=\"M17.41 7.96l-1.37-1.37c-.4-.4-.92-.59-1.43-.59-.52 0-1.04.2-1.43.59L10.3 9.45l-7.72 7.72c-.78.78-.78 2.05 0 2.83L4 21.41c.39.39.9.59 1.41.59.51 0 1.02-.2 1.41-.59l7.78-7.78 2.81-2.81c.8-.78.8-2.07 0-2.86zM5.41 20L4 18.59l7.72-7.72 1.47 1.35L5.41 20z\"/>\n",
              "  </svg>\n",
              "      </button>\n",
              "      \n",
              "  <style>\n",
              "    .colab-df-container {\n",
              "      display:flex;\n",
              "      flex-wrap:wrap;\n",
              "      gap: 12px;\n",
              "    }\n",
              "\n",
              "    .colab-df-convert {\n",
              "      background-color: #E8F0FE;\n",
              "      border: none;\n",
              "      border-radius: 50%;\n",
              "      cursor: pointer;\n",
              "      display: none;\n",
              "      fill: #1967D2;\n",
              "      height: 32px;\n",
              "      padding: 0 0 0 0;\n",
              "      width: 32px;\n",
              "    }\n",
              "\n",
              "    .colab-df-convert:hover {\n",
              "      background-color: #E2EBFA;\n",
              "      box-shadow: 0px 1px 2px rgba(60, 64, 67, 0.3), 0px 1px 3px 1px rgba(60, 64, 67, 0.15);\n",
              "      fill: #174EA6;\n",
              "    }\n",
              "\n",
              "    [theme=dark] .colab-df-convert {\n",
              "      background-color: #3B4455;\n",
              "      fill: #D2E3FC;\n",
              "    }\n",
              "\n",
              "    [theme=dark] .colab-df-convert:hover {\n",
              "      background-color: #434B5C;\n",
              "      box-shadow: 0px 1px 3px 1px rgba(0, 0, 0, 0.15);\n",
              "      filter: drop-shadow(0px 1px 2px rgba(0, 0, 0, 0.3));\n",
              "      fill: #FFFFFF;\n",
              "    }\n",
              "  </style>\n",
              "\n",
              "      <script>\n",
              "        const buttonEl =\n",
              "          document.querySelector('#df-09882155-2615-45e5-a4e1-74ee84c7210b button.colab-df-convert');\n",
              "        buttonEl.style.display =\n",
              "          google.colab.kernel.accessAllowed ? 'block' : 'none';\n",
              "\n",
              "        async function convertToInteractive(key) {\n",
              "          const element = document.querySelector('#df-09882155-2615-45e5-a4e1-74ee84c7210b');\n",
              "          const dataTable =\n",
              "            await google.colab.kernel.invokeFunction('convertToInteractive',\n",
              "                                                     [key], {});\n",
              "          if (!dataTable) return;\n",
              "\n",
              "          const docLinkHtml = 'Like what you see? Visit the ' +\n",
              "            '<a target=\"_blank\" href=https://colab.research.google.com/notebooks/data_table.ipynb>data table notebook</a>'\n",
              "            + ' to learn more about interactive tables.';\n",
              "          element.innerHTML = '';\n",
              "          dataTable['output_type'] = 'display_data';\n",
              "          await google.colab.output.renderOutput(dataTable, element);\n",
              "          const docLink = document.createElement('div');\n",
              "          docLink.innerHTML = docLinkHtml;\n",
              "          element.appendChild(docLink);\n",
              "        }\n",
              "      </script>\n",
              "    </div>\n",
              "  </div>\n",
              "  "
            ]
          },
          "metadata": {},
          "execution_count": 5
        }
      ]
    },
    {
      "cell_type": "markdown",
      "source": [
        "##### hg38"
      ],
      "metadata": {
        "id": "rpQhBD8_KIbU"
      }
    },
    {
      "cell_type": "code",
      "source": [
        "genome = pickle.load(open('/content/drive/MyDrive/ML4FG/Project/hg38.pkl',\"rb\")) "
      ],
      "metadata": {
        "id": "FgBJ7n0dk17Y"
      },
      "execution_count": 6,
      "outputs": []
    },
    {
      "cell_type": "markdown",
      "source": [
        "### Functions\n"
      ],
      "metadata": {
        "id": "TWvDdbq3ON7X"
      }
    },
    {
      "cell_type": "code",
      "source": [
        "def train_val_test_split(df):\n",
        "  chr_set = set(df['chr'])\n",
        "  valtest_chr_set = set(['chr1', 'chr2', 'chr3'])\n",
        "  train_chr_set = chr_set - valtest_chr_set\n",
        "\n",
        "  train_df = df.loc[df['chr'].isin(train_chr_set)]\n",
        "  val_df = df.loc[df['chr'].isin(['chr2', 'chr3'])]\n",
        "  test_df = df.loc[df['chr'] == 'chr1']\n",
        "\n",
        "  return train_df, val_df, test_df\n"
      ],
      "metadata": {
        "id": "R2yOCXBptAum"
      },
      "execution_count": 7,
      "outputs": []
    },
    {
      "cell_type": "code",
      "source": [
        "encode_train, encode_val, encode_test = train_val_test_split(encode_df) "
      ],
      "metadata": {
        "id": "ghexGR_ltEtM"
      },
      "execution_count": 8,
      "outputs": []
    },
    {
      "cell_type": "code",
      "source": [
        "def get_longest_seq_len(df):\n",
        "  start_lst = list(df['start'])\n",
        "  end_lst = list(df['end'])\n",
        "  seq_len = [end - start for start, end in zip(start_lst, end_lst)] \n",
        "  max_seq_len = list(set(seq_len))[-1]\n",
        "\n",
        "  return max_seq_len\n"
      ],
      "metadata": {
        "id": "UGxWdy5N0vEP"
      },
      "execution_count": 9,
      "outputs": []
    },
    {
      "cell_type": "code",
      "source": [
        "max_seq_len = get_longest_seq_len(encode_df) "
      ],
      "metadata": {
        "id": "JBLhXhOx0O_P"
      },
      "execution_count": 10,
      "outputs": []
    },
    {
      "cell_type": "code",
      "source": [
        "def one_hot(seq):\n",
        "  d = {'A': 0, 'C': 1, 'G': 2, 'T': 3}\n",
        "\n",
        "  one_hot_enc = np.zeros((4, len(seq)))\n",
        "\n",
        "  for i in range(len(seq)):\n",
        "    el = seq[i]\n",
        "    if el != 'N':\n",
        "      one_hot_enc[d[el], i] = 1.0\n",
        "\n",
        "  return one_hot_enc \n"
      ],
      "metadata": {
        "id": "4pk2_CxYnsLo"
      },
      "execution_count": 11,
      "outputs": []
    },
    {
      "cell_type": "code",
      "source": [
        "def pad_enc(one_hot_enc, max_seq_len):\n",
        "  padded_enc = np.zeros((4, max_seq_len))\n",
        "  padded_enc[:, 0:one_hot_enc.shape[1]] = one_hot_enc\n",
        "  \n",
        "  return padded_enc \n"
      ],
      "metadata": {
        "id": "GKvfZtva2j3c"
      },
      "execution_count": 12,
      "outputs": []
    },
    {
      "cell_type": "code",
      "source": [
        "# convert negative strand to its positive equivalence\n",
        "def strand_normalize(seq):\n",
        "  d = {'A': 'T', 'T': 'A', 'C': 'G', 'G': 'C', 'N':'N'}\n",
        "\n",
        "  modified_seq =''\n",
        "\n",
        "  for el in seq:\n",
        "    modified_seq += d[el]\n",
        "\n",
        "  return modified_seq \n",
        "  "
      ],
      "metadata": {
        "id": "N-lJd88OOPsy"
      },
      "execution_count": 13,
      "outputs": []
    },
    {
      "cell_type": "code",
      "source": [
        "def collect_positive_samples(df):\n",
        "  start_lst = list(df['start'])\n",
        "  end_lst = list(df['end'])\n",
        "  strand_lst = list(df['strand'])\n",
        "\n",
        "  positive_samples = list()\n",
        "\n",
        "  for i in range(df.shape[0]):\n",
        "    current_start, current_end = start_lst[i], end_lst[i]\n",
        "\n",
        "    if i == 0:\n",
        "      positive_samples.append([(start_lst[i], end_lst[i]), strand_lst[i]])\n",
        "\n",
        "    else:\n",
        "      previous_start, previous_end = positive_samples[-1][0]\n",
        "\n",
        "      if previous_end < current_start:\n",
        "        positive_samples.append([(current_start, current_end), strand_lst[i]])\n",
        "\n",
        "      else:\n",
        "        positions = [previous_start, previous_end, current_start, current_end]\n",
        "        positions.sort()\n",
        "\n",
        "        positive_samples[-1] = [(positions[0], positions[-1]), strand_lst[i-1]]\n",
        "\n",
        "  return positive_samples \n",
        "  "
      ],
      "metadata": {
        "id": "VNAFk7kCoAN9"
      },
      "execution_count": 14,
      "outputs": []
    },
    {
      "cell_type": "code",
      "source": [
        "train_positive_samples = collect_positive_samples(encode_train)  "
      ],
      "metadata": {
        "id": "nsfUvu8t_uN9"
      },
      "execution_count": 15,
      "outputs": []
    },
    {
      "cell_type": "code",
      "source": [
        "def get_positive_label(target, target_to_idx):\n",
        "  label = np.zeros(len(target_to_idx))\n",
        "  label[target_to_idx[target]] = 1\n",
        "\n",
        "  return label \n",
        "  "
      ],
      "metadata": {
        "id": "JJ59OjfduW5k"
      },
      "execution_count": 16,
      "outputs": []
    },
    {
      "cell_type": "code",
      "source": [
        "def mtx_to_idx_label(mtx):\n",
        "  indices = torch.zeros(mtx.shape[0], dtype=torch.int)\n",
        "  for i in range(mtx.shape[0]):\n",
        "    row = mtx[i,:]\n",
        "    indices[i] = list(row).index(1)\n",
        "\n",
        "  return indices \n",
        "  "
      ],
      "metadata": {
        "id": "3pFtL5TLShWr"
      },
      "execution_count": 17,
      "outputs": []
    },
    {
      "cell_type": "markdown",
      "source": [
        "### Dataloader"
      ],
      "metadata": {
        "id": "jaGdhdkn_-sW"
      }
    },
    {
      "cell_type": "code",
      "source": [
        "class BedPeaksDataset(torch.utils.data.IterableDataset):\n",
        "\n",
        "    def __init__(self, eclip_data, genome, context_length, target_to_idx):\n",
        "        super(BedPeaksDataset, self).__init__()\n",
        "        self.eclip_data = eclip_data\n",
        "        self.genome = genome\n",
        "        self.context_length = context_length\n",
        "        self.target_to_idx = target_to_idx \n",
        "\n",
        "    def __iter__(self): \n",
        "        for i,row in enumerate(self.eclip_data.itertuples()):\n",
        "            midpoint = int(.5 * (row.start + row.end))\n",
        "            seq = self.genome[row.chr][midpoint - self.context_length//2:midpoint + self.context_length//2]\n",
        "            if row.strand == '-':\n",
        "              seq = strand_normalize(seq)\n",
        "            yield(one_hot(seq), get_positive_label(row.target, self.target_to_idx)) # positive example \n",
        "\n",
        "\n",
        "    def __len__(self):\n",
        "        return self.eclip_data.shape[0]\n"
      ],
      "metadata": {
        "id": "sRnVGzTIADFe"
      },
      "execution_count": 18,
      "outputs": []
    },
    {
      "cell_type": "code",
      "source": [
        "context_length = 100\n",
        "\n",
        "encode_train_dataset = BedPeaksDataset(encode_train, genome, context_length, target_to_idx)\n",
        "encode_train_dataloader = torch.utils.data.DataLoader(encode_train_dataset, batch_size=1028, num_workers = 0) \n",
        "\n",
        "encode_val_dataset = BedPeaksDataset(encode_val, genome, context_length, target_to_idx)\n",
        "encode_val_dataloader = torch.utils.data.DataLoader(encode_val_dataset, batch_size=1028)\n",
        "\n",
        "encode_test_dataset = BedPeaksDataset(encode_test, genome, context_length, target_to_idx)\n",
        "encodetest_dataloader = torch.utils.data.DataLoader(encode_test_dataset, batch_size=1028) "
      ],
      "metadata": {
        "id": "6Bz_vZWJqAIr"
      },
      "execution_count": 19,
      "outputs": []
    },
    {
      "cell_type": "markdown",
      "source": [
        "### Convolutional Neural Network"
      ],
      "metadata": {
        "id": "WOxSXNpYl8ET"
      }
    },
    {
      "cell_type": "code",
      "source": [
        "class ConvBasicNet(nn.Module): \n",
        "\n",
        "    def __init__(self, padding=False):\n",
        "        super().__init__()\n",
        "\n",
        "        self.padding = padding\n",
        "        self.conv_model = self.get_conv_layers()\n",
        "        self.final_max_pool = self.final_pool_layer()\n",
        "        self.fc_model = self.get_fc_layers()\n",
        "\n",
        "    def get_conv_layers(self):\n",
        "        \n",
        "        layers = nn.Sequential(\n",
        "            nn.Conv1d(4, 32, 5),\n",
        "            nn.BatchNorm1d(32),\n",
        "            nn.MaxPool1d(2, 2),\n",
        "            nn.ReLU(),\n",
        "            nn.Conv1d(32, 16, 5),\n",
        "            nn.BatchNorm1d(16),\n",
        "            nn.MaxPool1d(2, 2),\n",
        "            nn.ReLU()\n",
        "        )\n",
        "\n",
        "        return layers\n",
        "\n",
        "    def final_pool_layer(self):\n",
        "        \n",
        "        layer = nn.MaxPool1d(2, 2) \n",
        "        \n",
        "        return layer\n",
        "\n",
        "    def get_fc_layers(self):\n",
        "        \n",
        "        if self.padding==False:\n",
        "          layers = nn.Sequential(\n",
        "              nn.Linear(176, 512),\n",
        "              nn.ReLU(),\n",
        "              nn.Linear(512, 1024),\n",
        "              nn.ReLU(),\n",
        "              nn.Linear(1024, 150)\n",
        "          )\n",
        "\n",
        "        elif self.padding:\n",
        "          layers = nn.Sequential(\n",
        "              nn.Linear(912, 1024),\n",
        "              nn.ReLU(),\n",
        "              nn.Linear(1024, 2048),\n",
        "              nn.ReLU(),\n",
        "              nn.Linear(2048, 150)\n",
        "          )\n",
        "\n",
        "        return layers\n",
        "\n",
        "    def register_grad_hook(self, grad):\n",
        "        self.grad = grad \n",
        "\n",
        "\n",
        "    def forward(self, x):\n",
        "\n",
        "        x = self.conv_model(x) \n",
        "        h = x.register_hook(self.register_grad_hook)\n",
        "\n",
        "        x = self.final_max_pool(x)\n",
        "        x = nn.Flatten()(x) \n",
        "        x = self.fc_model(x)\n",
        "\n",
        "        return x    \n",
        "\n",
        "    def get_gradient_activations(self):\n",
        "        return self.grad\n",
        "\n",
        "    def get_final_conv_layer(self, x):\n",
        "        return self.conv_model(x) \n"
      ],
      "metadata": {
        "id": "BeMqz06vl2Ht"
      },
      "execution_count": 42,
      "outputs": []
    },
    {
      "cell_type": "code",
      "source": [
        "class Classifier():\n",
        "\n",
        "    def __init__(self, name, model, dataloaders, class_names, use_cuda=False):\n",
        "        \n",
        "        '''\n",
        "        @name: Experiment name. Will define stored results etc. \n",
        "        @model: GradBasicNet()\n",
        "        @dataloaders: Dictionary with keys train, val and test and corresponding dataloaders\n",
        "        @class_names: list of classes, where the idx of class name corresponds to the label used for it in the data\n",
        "        @use_cuda: whether or not to use cuda\n",
        "        '''\n",
        "        \n",
        "        self.name = name\n",
        "        if use_cuda and not torch.cuda.is_available():\n",
        "            raise Exception(\"Asked for CUDA but GPU not found\")\n",
        "            \n",
        "        self.use_cuda = use_cuda\n",
        "        self.model = model.to('cuda' if use_cuda else 'cpu')\n",
        "\n",
        "        self.criterion = nn.CrossEntropyLoss()\n",
        "        self.optim = torch.optim.SGD(model.parameters(), lr=0.001, momentum=0.9)\n",
        "\n",
        "        self.dataloaders = dataloaders \n",
        "        self.class_names = class_names\n",
        "        self.activations_path = os.path.join('activations', self.name)\n",
        "        self.kernel_path = os.path.join('kernel_viz', self.name)\n",
        "\n",
        "        save_path = os.path.join(os.getcwd(), 'models', self.name)\n",
        "        if not os.path.exists(save_path):\n",
        "            os.makedirs(save_path)\n",
        "\n",
        "        if not os.path.exists(self.activations_path):\n",
        "            os.makedirs(self.activations_path)\n",
        "\n",
        "        if not os.path.exists(self.kernel_path):\n",
        "            os.makedirs(self.kernel_path)\n",
        "            \n",
        "        self.save_path = save_path\n",
        "\n",
        "    def train(self, epochs, save=True):\n",
        "        '''\n",
        "        @epochs: number of epochs to train\n",
        "        @save: whether or not to save the checkpoints\n",
        "        '''\n",
        "\n",
        "        best_val_accuracy = - math.inf\n",
        "\n",
        "        for epoch in range(epochs):\n",
        "\n",
        "            self.model.train()\n",
        "\n",
        "            batches_in_pass = len(self.dataloaders['train'])\n",
        "            \n",
        "            loss_total = 0.0 # Record the total loss within a few steps\n",
        "            epoch_loss = 0.0 # Record the total loss for each epoch\n",
        "            \n",
        "            for idx, data in enumerate(self.dataloaders['train']):\n",
        "               \n",
        "              inputs, labels = data\n",
        "            \n",
        "              inputs = inputs.to('cuda', dtype=torch.float if self.use_cuda else 'cpu') \n",
        "              labels = labels.to('cuda', dtype=torch.float if self.use_cuda else 'cpu')\n",
        "\n",
        "              outputs = self.model(inputs)\n",
        "              train_loss = self.criterion(outputs, labels)\n",
        "\n",
        "              if idx != 0 and idx % 10000 == 0: \n",
        "                print(loss_total.item())\n",
        "                loss_total = 0\n",
        "\n",
        "              loss_total += train_loss\n",
        "              epoch_loss += train_loss \n",
        "\n",
        "              self.optim.zero_grad()\n",
        "              train_loss.backward() \n",
        "              self.optim.step()\n",
        "\n",
        "            '''Give validation'''\n",
        "            epoch_loss /= batches_in_pass\n",
        "\n",
        "            self.model.eval()\n",
        "            \n",
        "            #DO NOT modify this part\n",
        "            correct = 0.0\n",
        "            total = 0.0\n",
        "            for idx, data in enumerate(self.dataloaders['val']):\n",
        "\n",
        "                inputs, labels = data\n",
        "                \n",
        "                inputs = inputs.to('cuda', dtype=torch.float if self.use_cuda else 'cpu')\n",
        "                labels = labels.to('cuda', dtype=torch.float if self.use_cuda else 'cpu')\n",
        "\n",
        "                outputs = self.model(inputs)\n",
        "                _, predicted = torch.max(outputs, 1)\n",
        "\n",
        "                total += labels.shape[0]\n",
        "                indices_labels = (mtx_to_idx_label(labels)).to('cuda')\n",
        "                correct += (predicted == indices_labels).sum().item()\n",
        "\n",
        "\n",
        "            epoch_accuracy = 100 * correct / total\n",
        "\n",
        "            print(f'Train Epoch Loss (Avg): {epoch_loss}')\n",
        "            print(f'Validation Epoch Accuracy:{epoch_accuracy}')\n",
        "            \n",
        "            if save:\n",
        "                \n",
        "                torch.save(self.model.state_dict(), os.path.join(self.save_path, f'epoch_{epoch}.pt'))\n",
        "                \n",
        "                if epoch_accuracy > best_val_accuracy:\n",
        "\n",
        "                    torch.save(self.model.state_dict(), os.path.join(self.save_path, 'best.pt'))\n",
        "                    print('save model', os.path.join(self.save_path, f'epoch_{epoch}.pt'))\n",
        "                    best_val_accuracy = epoch_accuracy\n",
        "\n",
        "        print('Finish training!')                       \n",
        "\n",
        "    \n",
        "    def evaluate(self):\n",
        "        \n",
        "        try:\n",
        "            assert os.path.exists(os.path.join(self.save_path, 'best.pt'))\n",
        "            \n",
        "        except:\n",
        "            print('It appears you are testing the model without training. Please train first')\n",
        "            return\n",
        "        \n",
        "        self.model.load_state_dict(torch.load(os.path.join(self.save_path, 'best.pt')))\n",
        "        self.model.eval()\n",
        "\n",
        "        #total = len(self.dataloaders['test'])\n",
        "        \n",
        "        correct = 0.0\n",
        "        total = 0.0\n",
        "        for idx, data in enumerate(self.dataloaders['test']):\n",
        "            \n",
        "            inputs, labels = data\n",
        "            inputs = inputs.to('cuda', dtype=torch.float if self.use_cuda else 'cpu')\n",
        "            labels = labels.to('cuda', dtype=torch.float if self.use_cuda else 'cpu')\n",
        "\n",
        "            outputs = self.model(inputs)\n",
        "            _, predicted = torch.max(outputs, 1)\n",
        "\n",
        "            total += labels.shape[0]\n",
        "            indices_labels = (mtx_to_idx_label(labels)).to('cuda')\n",
        "            correct += (predicted == indices_labels).sum().item()\n",
        "                \n",
        "        print(f'Accuracy: {100 * correct/total}%')\n",
        "        "
      ],
      "metadata": {
        "id": "OrDgdrh-l8av"
      },
      "execution_count": 23,
      "outputs": []
    },
    {
      "cell_type": "code",
      "source": [
        "experiment_name = 'basic' \n",
        "model_name = 'basic' \n",
        "\n",
        "dataloaders = {'train': encode_train_dataloader, 'val' : encode_val_dataloader, 'test': encode_train_dataloader, 'mapping': target_set}\n",
        "model = ConvBasicNet()\n",
        "classifier = Classifier(experiment_name, model, dataloaders, target_set, use_cuda=True) "
      ],
      "metadata": {
        "id": "DwEGAf1ol8uS"
      },
      "execution_count": 80,
      "outputs": []
    },
    {
      "cell_type": "code",
      "source": [
        "classifier.train(epochs=20)\n",
        "classifier.evaluate() "
      ],
      "metadata": {
        "colab": {
          "base_uri": "https://localhost:8080/"
        },
        "id": "c3OtSrqwu22w",
        "outputId": "eb1cae04-b26c-4add-9844-ac9f9e7c322c"
      },
      "execution_count": null,
      "outputs": [
        {
          "output_type": "stream",
          "name": "stdout",
          "text": [
            "Train Epoch Loss (Avg): 4.409198760986328\n",
            "Validation Epoch Accuracy:11.277369885448945\n",
            "save model /content/models/basic/epoch_0.pt\n",
            "Train Epoch Loss (Avg): 4.119940280914307\n",
            "Validation Epoch Accuracy:14.886984357406735\n",
            "save model /content/models/basic/epoch_1.pt\n",
            "Train Epoch Loss (Avg): 3.925590991973877\n",
            "Validation Epoch Accuracy:15.824051068739939\n",
            "save model /content/models/basic/epoch_2.pt\n",
            "Train Epoch Loss (Avg): 3.8540444374084473\n",
            "Validation Epoch Accuracy:16.287466383778604\n",
            "save model /content/models/basic/epoch_3.pt\n",
            "Train Epoch Loss (Avg): 3.812438726425171\n",
            "Validation Epoch Accuracy:16.72482621925686\n",
            "save model /content/models/basic/epoch_4.pt\n",
            "Train Epoch Loss (Avg): 3.778705358505249\n",
            "Validation Epoch Accuracy:17.098908461516988\n",
            "save model /content/models/basic/epoch_5.pt\n",
            "Train Epoch Loss (Avg): 3.7481296062469482\n",
            "Validation Epoch Accuracy:17.514865581642052\n",
            "save model /content/models/basic/epoch_6.pt\n",
            "Train Epoch Loss (Avg): 3.7195050716400146\n",
            "Validation Epoch Accuracy:17.898253352316612\n",
            "save model /content/models/basic/epoch_7.pt\n",
            "Train Epoch Loss (Avg): 3.6930763721466064\n",
            "Validation Epoch Accuracy:18.352363138940845\n",
            "save model /content/models/basic/epoch_8.pt\n",
            "Train Epoch Loss (Avg): 3.6691763401031494\n",
            "Validation Epoch Accuracy:18.741334226664062\n",
            "save model /content/models/basic/epoch_9.pt\n",
            "Train Epoch Loss (Avg): 3.6477365493774414\n",
            "Validation Epoch Accuracy:19.021430631938436\n",
            "save model /content/models/basic/epoch_10.pt\n",
            "Train Epoch Loss (Avg): 3.6283395290374756\n",
            "Validation Epoch Accuracy:19.258721606506427\n",
            "save model /content/models/basic/epoch_11.pt\n",
            "Train Epoch Loss (Avg): 3.611140251159668\n",
            "Validation Epoch Accuracy:19.455998808892364\n",
            "save model /content/models/basic/epoch_12.pt\n",
            "Train Epoch Loss (Avg): 3.5960805416107178\n",
            "Validation Epoch Accuracy:19.672817620948607\n",
            "save model /content/models/basic/epoch_13.pt\n",
            "Train Epoch Loss (Avg): 3.5828208923339844\n",
            "Validation Epoch Accuracy:19.843108790932693\n",
            "save model /content/models/basic/epoch_14.pt\n",
            "Train Epoch Loss (Avg): 3.570936441421509\n",
            "Validation Epoch Accuracy:20.00781664386812\n",
            "save model /content/models/basic/epoch_15.pt\n",
            "Train Epoch Loss (Avg): 3.5601806640625\n",
            "Validation Epoch Accuracy:20.11483022063408\n",
            "save model /content/models/basic/epoch_16.pt\n",
            "Train Epoch Loss (Avg): 3.550316333770752\n",
            "Validation Epoch Accuracy:20.235802090021682\n",
            "save model /content/models/basic/epoch_17.pt\n",
            "Train Epoch Loss (Avg): 3.5412425994873047\n",
            "Validation Epoch Accuracy:20.308385211654244\n",
            "save model /content/models/basic/epoch_18.pt\n",
            "Train Epoch Loss (Avg): 3.532926559448242\n",
            "Validation Epoch Accuracy:20.372593357713818\n",
            "save model /content/models/basic/epoch_19.pt\n",
            "Finish training!\n",
            "Accuracy: 17.632672358144905%\n"
          ]
        }
      ]
    },
    {
      "cell_type": "code",
      "source": [
        "!git clone https://github.com/xypan1232/iDeepS "
      ],
      "metadata": {
        "colab": {
          "base_uri": "https://localhost:8080/"
        },
        "id": "jfeut63jqMni",
        "outputId": "468d4d80-d38b-4e12-89e3-74b3b4a21008"
      },
      "execution_count": 31,
      "outputs": [
        {
          "output_type": "stream",
          "name": "stdout",
          "text": [
            "Cloning into 'iDeepS'...\n",
            "remote: Enumerating objects: 9858, done.\u001b[K\n",
            "remote: Total 9858 (delta 0), reused 0 (delta 0), pack-reused 9858\u001b[K\n",
            "Receiving objects: 100% (9858/9858), 547.92 MiB | 12.15 MiB/s, done.\n",
            "Resolving deltas: 100% (3603/3603), done.\n",
            "Checking out files: 100% (3530/3530), done.\n"
          ]
        }
      ]
    },
    {
      "cell_type": "markdown",
      "source": [
        "### CNN with various input lengths (padded)"
      ],
      "metadata": {
        "id": "DpWo7r6O1kDp"
      }
    },
    {
      "cell_type": "code",
      "source": [
        "class VariedBedPeaksDataset(torch.utils.data.IterableDataset):\n",
        "\n",
        "    def __init__(self, eclip_data, genome, max_seq_len, target_to_idx):\n",
        "        super(VariedBedPeaksDataset, self).__init__()\n",
        "        self.eclip_data = eclip_data\n",
        "        self.genome = genome\n",
        "        self.max_seq_len = max_seq_len\n",
        "        self.target_to_idx = target_to_idx \n",
        "\n",
        "    def __iter__(self): \n",
        "        for i,row in enumerate(self.eclip_data.itertuples()):\n",
        "            midpoint = int(.5 * (row.start + row.end))\n",
        "            seq = self.genome[row.chr][row.start:row.end]\n",
        "            if row.strand == '-':\n",
        "              seq = strand_normalize(seq) \n",
        "            yield(pad_enc(one_hot(seq), self.max_seq_len), get_positive_label(row.target, self.target_to_idx)) # positive example \n",
        "\n",
        "\n",
        "    def __len__(self):\n",
        "        return self.eclip_data.shape[0]\n"
      ],
      "metadata": {
        "id": "_vxMmUdxx0nN"
      },
      "execution_count": 24,
      "outputs": []
    },
    {
      "cell_type": "code",
      "source": [
        "encode_train_dataset = VariedBedPeaksDataset(encode_train, genome, max_seq_len, target_to_idx)\n",
        "encode_train_dataloader = torch.utils.data.DataLoader(encode_train_dataset, batch_size=1028, num_workers = 0) \n",
        "\n",
        "encode_val_dataset = VariedBedPeaksDataset(encode_val, genome, max_seq_len, target_to_idx)\n",
        "encode_val_dataloader = torch.utils.data.DataLoader(encode_val_dataset, batch_size=1028)\n",
        "\n",
        "encode_test_dataset = VariedBedPeaksDataset(encode_test, genome, max_seq_len, target_to_idx)\n",
        "encodetest_dataloader = torch.utils.data.DataLoader(encode_test_dataset, batch_size=1028) "
      ],
      "metadata": {
        "id": "SHjfAoF2xFWx"
      },
      "execution_count": 25,
      "outputs": []
    },
    {
      "cell_type": "code",
      "source": [
        "experiment_name = 'basic_pad'  #Provide name to model experiment\n",
        "model_name = 'basic_pad' \n",
        "\n",
        "dataloaders = {'train': encode_train_dataloader, 'val' : encode_val_dataloader, 'test': encode_train_dataloader, 'mapping': target_set}\n",
        "model = ConvBasicNet(padding=True)\n",
        "classifier = Classifier(experiment_name, model, dataloaders, target_set, use_cuda=True) "
      ],
      "metadata": {
        "id": "guxUXp8y3M_S"
      },
      "execution_count": 43,
      "outputs": []
    },
    {
      "cell_type": "code",
      "source": [
        "classifier.train(epochs=20)\n",
        "classifier.evaluate() "
      ],
      "metadata": {
        "colab": {
          "base_uri": "https://localhost:8080/"
        },
        "id": "kgNFMpAW7-Km",
        "outputId": "c1453626-fe47-4573-b140-f537b3d33bd2"
      },
      "execution_count": 44,
      "outputs": [
        {
          "output_type": "stream",
          "name": "stdout",
          "text": [
            "Train Epoch Loss (Avg): 4.349259853363037\n",
            "Validation Epoch Accuracy:12.032978792700744\n",
            "save model /content/models/basic_pad/epoch_0.pt\n",
            "Train Epoch Loss (Avg): 3.9622132778167725\n",
            "Validation Epoch Accuracy:15.969217312005062\n",
            "save model /content/models/basic_pad/epoch_1.pt\n",
            "Train Epoch Loss (Avg): 3.811177968978882\n",
            "Validation Epoch Accuracy:16.74343727608572\n",
            "save model /content/models/basic_pad/epoch_2.pt\n",
            "Train Epoch Loss (Avg): 3.7492659091949463\n",
            "Validation Epoch Accuracy:17.470199045252784\n",
            "save model /content/models/basic_pad/epoch_3.pt\n",
            "Train Epoch Loss (Avg): 3.7063188552856445\n",
            "Validation Epoch Accuracy:17.931753254608562\n",
            "save model /content/models/basic_pad/epoch_4.pt\n",
            "Train Epoch Loss (Avg): 3.6707804203033447\n",
            "Validation Epoch Accuracy:18.117863822897185\n",
            "save model /content/models/basic_pad/epoch_5.pt\n",
            "Train Epoch Loss (Avg): 3.6415538787841797\n",
            "Validation Epoch Accuracy:18.14391930245759\n",
            "save model /content/models/basic_pad/epoch_6.pt\n",
            "Train Epoch Loss (Avg): 3.618687868118286\n",
            "Validation Epoch Accuracy:18.21557187124871\n",
            "save model /content/models/basic_pad/epoch_7.pt\n",
            "Train Epoch Loss (Avg): 3.6001999378204346\n",
            "Validation Epoch Accuracy:18.27512725310107\n",
            "save model /content/models/basic_pad/epoch_8.pt\n",
            "Train Epoch Loss (Avg): 3.584662675857544\n",
            "Validation Epoch Accuracy:18.386793594074238\n",
            "save model /content/models/basic_pad/epoch_9.pt\n",
            "Train Epoch Loss (Avg): 3.5709314346313477\n",
            "Validation Epoch Accuracy:18.502182146413183\n",
            "save model /content/models/basic_pad/epoch_10.pt\n",
            "Train Epoch Loss (Avg): 3.5585811138153076\n",
            "Validation Epoch Accuracy:18.588723560667393\n",
            "save model /content/models/basic_pad/epoch_11.pt\n",
            "Train Epoch Loss (Avg): 3.5474190711975098\n",
            "Validation Epoch Accuracy:18.664098340824285\n",
            "save model /content/models/basic_pad/epoch_12.pt\n",
            "Train Epoch Loss (Avg): 3.537264108657837\n",
            "Validation Epoch Accuracy:18.7766952346389\n",
            "save model /content/models/basic_pad/epoch_13.pt\n",
            "Train Epoch Loss (Avg): 3.527818202972412\n",
            "Validation Epoch Accuracy:18.885569917087743\n",
            "save model /content/models/basic_pad/epoch_14.pt\n",
            "Train Epoch Loss (Avg): 3.5191781520843506\n",
            "Validation Epoch Accuracy:18.990722388170813\n",
            "save model /content/models/basic_pad/epoch_15.pt\n",
            "Train Epoch Loss (Avg): 3.511338472366333\n",
            "Validation Epoch Accuracy:19.120999785972845\n",
            "save model /content/models/basic_pad/epoch_16.pt\n",
            "Train Epoch Loss (Avg): 3.5039896965026855\n",
            "Validation Epoch Accuracy:19.242902208201894\n",
            "save model /content/models/basic_pad/epoch_17.pt\n",
            "Train Epoch Loss (Avg): 3.49709415435791\n",
            "Validation Epoch Accuracy:19.35270744349218\n",
            "save model /content/models/basic_pad/epoch_18.pt\n",
            "Train Epoch Loss (Avg): 3.4906179904937744\n",
            "Validation Epoch Accuracy:19.43924885774639\n",
            "save model /content/models/basic_pad/epoch_19.pt\n",
            "Finish training!\n",
            "Accuracy: 17.34203723402643%\n"
          ]
        }
      ]
    },
    {
      "cell_type": "code",
      "source": [
        ""
      ],
      "metadata": {
        "id": "g2J-Mj6Q3scJ"
      },
      "execution_count": null,
      "outputs": []
    },
    {
      "cell_type": "code",
      "source": [
        ""
      ],
      "metadata": {
        "id": "0gJmABvXxsGV"
      },
      "execution_count": null,
      "outputs": []
    },
    {
      "cell_type": "code",
      "source": [
        ""
      ],
      "metadata": {
        "id": "7c5gT0wqxsbY"
      },
      "execution_count": null,
      "outputs": []
    },
    {
      "cell_type": "code",
      "source": [
        ""
      ],
      "metadata": {
        "id": "hfiiioUPxs2C"
      },
      "execution_count": null,
      "outputs": []
    }
  ]
}